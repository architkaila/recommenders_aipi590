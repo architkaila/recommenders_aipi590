{
  "cells": [
    {
      "cell_type": "markdown",
      "metadata": {
        "id": "4EtzKm3814Zr"
      },
      "source": [
        "# Product Recommender on RetailRocket Dataset\n",
        "\n",
        "- We have used the cornac package and mircosoft's recommenders module to train a Bayesian Personalised Ranking model on retail rocket e commere dataset. \n",
        "\n",
        "- The model learns and recommends top K items after ranking them based on user and product interactions\n",
        "\n",
        "- Dataset in itself is huge, hence we have taken a subsample to train the model on google colab"
      ]
    },
    {
      "cell_type": "code",
      "execution_count": null,
      "metadata": {},
      "outputs": [],
      "source": [
        "NAME = \"Archit Kaila\"\n",
        "COLLABORATORS = \"Shrey Gupta, Shen Juin Lee\""
      ]
    },
    {
      "cell_type": "code",
      "execution_count": null,
      "metadata": {
        "colab": {
          "base_uri": "https://localhost:8080/"
        },
        "id": "skjRjNhx18OT",
        "outputId": "cb5549fa-d885-453b-ad70-fb05f6ed15ad"
      },
      "outputs": [],
      "source": [
        "## Install required libraries (only for google colab)\n",
        "!pip install cornac\n",
        "!pip install recommenders"
      ]
    },
    {
      "cell_type": "code",
      "execution_count": null,
      "metadata": {
        "id": "5QiVRPUvrnaw"
      },
      "outputs": [],
      "source": [
        "## Inport standard libraries\n",
        "import pandas as pd\n",
        "import numpy as np"
      ]
    },
    {
      "cell_type": "code",
      "execution_count": null,
      "metadata": {
        "colab": {
          "base_uri": "https://localhost:8080/"
        },
        "id": "8yPBKcHD2WED",
        "outputId": "558d3348-80f6-4cb6-edd9-f3cd0f6b133d"
      },
      "outputs": [],
      "source": [
        "## Mount google drive folder\n",
        "from google.colab import drive\n",
        "drive.mount('/content/gdrive/')\n",
        "\n",
        "## Set active path to the folder where our codebase is present\n",
        "import sys\n",
        "sys.path.append('/content/gdrive/MyDrive/recommenders_aipi590')\n",
        "\n",
        "## Import python script to run and evaluate BPR model\n",
        "from Non_DRL_Recommenders.bpr_model import run_bpr_model"
      ]
    },
    {
      "cell_type": "markdown",
      "metadata": {},
      "source": [
        "### Read dataset"
      ]
    },
    {
      "cell_type": "code",
      "execution_count": null,
      "metadata": {
        "colab": {
          "base_uri": "https://localhost:8080/",
          "height": 204
        },
        "id": "8dogz68NymjH",
        "outputId": "dea7459a-6e6f-428c-db48-9b63f0f4a1a4"
      },
      "outputs": [],
      "source": [
        "## Reading the e-commerce dataset\n",
        "df = pd.read_csv('/content/gdrive/MyDrive/Retail_Rocket_Dataset/events.csv')\n",
        "df.head()"
      ]
    },
    {
      "cell_type": "code",
      "execution_count": null,
      "metadata": {
        "colab": {
          "base_uri": "https://localhost:8080/"
        },
        "id": "avU60uLIyu8H",
        "outputId": "e275d2e9-b534-4c3a-beaa-177c326273db"
      },
      "outputs": [],
      "source": [
        "## The implicit feedback between items and users pairs can be obtained using the events column\n",
        "df.event.value_counts()"
      ]
    },
    {
      "cell_type": "code",
      "execution_count": null,
      "metadata": {
        "id": "gOqOAR2fy3R1"
      },
      "outputs": [],
      "source": [
        "## We take a subsample of our original dataset to train out model\n",
        "df = df.sample(n=5000, random_state=0)"
      ]
    },
    {
      "cell_type": "markdown",
      "metadata": {
        "id": "DAoU07rLy-4i"
      },
      "source": [
        "### Prepare datset\n",
        "\n",
        "- The BPR implimentation in Cornac module works on the rankings (implicit feedbacks) for each user item pair. \n",
        "\n",
        "- We use the Negative Sampling method to prepare our data. This works on the assumption that if there is a interaction between user and item, then ranking is set to one else it is set to 0\n",
        "\n",
        "- The postive interactions are present in our dataset and the negative interactions we prepare manually"
      ]
    },
    {
      "cell_type": "code",
      "execution_count": null,
      "metadata": {
        "id": "cOwA94_iy_Nd"
      },
      "outputs": [],
      "source": [
        "## Set ranking (implicit feedbak) to 1 for interactions between user and item\n",
        "df = df[['visitorid', 'itemid']].copy()\n",
        "df['FEEDBACK'] = 1\n",
        "\n",
        "# Remove duplicates from our samples\n",
        "df = df.drop_duplicates()\n",
        "\n",
        "# Rename the columns for explanability\n",
        "df.rename(columns = {'visitorid': 'userID', 'itemid': 'itemID', 'FEEDBACK': 'rating'}, inplace = True)\n",
        "\n",
        "df.head()"
      ]
    },
    {
      "cell_type": "code",
      "execution_count": null,
      "metadata": {
        "id": "AvA5iHWNzWTC"
      },
      "outputs": [],
      "source": [
        "## Obtain list of unique items and users present in our dataset to genrate negative interations\n",
        "item_ids = df['itemID'].unique()\n",
        "user_ids = df['userID'].unique()"
      ]
    },
    {
      "cell_type": "code",
      "execution_count": null,
      "metadata": {
        "id": "2-pj4OEBzPZ_"
      },
      "outputs": [],
      "source": [
        "## Adding negative feedback (0 ranking) for instances of no interaction between items and users\n",
        "absent_interactions_feedback = [[user, item, 0] for item in item_ids for user in user_ids] \n",
        "\n",
        "# Convert prepared data into a dataframe\n",
        "negative_feedback_df = pd.DataFrame(data=absent_interactions_feedback, columns=[\"userID\", \"itemID\", \"rating\"])\n",
        "\n",
        "negative_feedback_df.head()"
      ]
    },
    {
      "cell_type": "code",
      "execution_count": null,
      "metadata": {
        "colab": {
          "base_uri": "https://localhost:8080/",
          "height": 204
        },
        "id": "qCvzjMxUzj0f",
        "outputId": "85f881dc-2997-4993-ca7c-7f09987a125a"
      },
      "outputs": [],
      "source": [
        "## Merge the positive and negative feedback into one single master dataframe\n",
        "prepared_dataset = pd.merge(negative_feedback_df, df, on=['userID', 'itemID'], how='outer').fillna(0).drop('rating_x', axis = 1)\n",
        "\n",
        "# Cleaning up the column names\n",
        "prepared_dataset.rename(columns = {'rating_y': 'rating'}, inplace = True)\n",
        "\n",
        "prepared_dataset.head()"
      ]
    },
    {
      "cell_type": "code",
      "execution_count": null,
      "metadata": {
        "colab": {
          "base_uri": "https://localhost:8080/"
        },
        "id": "1ZzwvT1ezqqz",
        "outputId": "2aa6127c-dca7-405b-8e7d-a96320aa3efb"
      },
      "outputs": [],
      "source": [
        "## Check number of positive and negative feedback samples\n",
        "prepared_dataset['rating'].value_counts()"
      ]
    },
    {
      "cell_type": "markdown",
      "metadata": {},
      "source": [
        "### Run and Evaluate Product Ranking Model\n",
        "\n",
        "- We use the Cornac module the train and evaluate a Bayesian Personalised Ranking model\n",
        "- We set the value for top K as 5 and train our model for 50 epochs\n",
        "- We set the LR to 0.001\n",
        "- We utilize 80% of our dataset for training and 20% for testing"
      ]
    },
    {
      "cell_type": "code",
      "execution_count": null,
      "metadata": {
        "colab": {
          "base_uri": "https://localhost:8080/",
          "height": 506,
          "referenced_widgets": [
            "572a92743def40a4b9d23b84ac16af3f",
            "1d373ed2ec934578884664c7f48242a4",
            "8518417abe984d84a3b4de196d795969",
            "ac19189f7e234f5d8f1310c53c5fbde9",
            "4d88f035cbbc4804835e525b0c209ff6",
            "e571123837804a12b495af0400c66b2e",
            "c36a8d3767594df08115a36b1313aa6e",
            "e763f4f7b9bd4b38af5c7a5866839b9f",
            "660ed90e327d414c92ab170a2c7df2a2",
            "c521ac81951941eebb1c3eabac779c07",
            "8b4106b69ae7497f9590d3403dd5693c",
            "a385aaa2760647e0911933789c2cf683",
            "7eb5b847cf6b46bbb72851ec14bd667e",
            "59af35ea9dec4bc6a1ab417e0c1bdec3",
            "26c4708b5e6d4b78ad9a9da8f225bde7",
            "4db8b988d52f407280fb9a4c4d254193",
            "55966a5e773e48948c486f8c90711515",
            "17f75f593cae42d5b33e4d1fb61463a5",
            "33fee27029454df0b9bce976ed6dacae",
            "c63abfb1a92941b8804a133c15c4de3a",
            "7bbe416c554f43e084637676528c678e",
            "ddb8139d780c4c76aee1cf64e1fbe195"
          ]
        },
        "id": "uL5oyYlQ7zHD",
        "outputId": "4552bf96-5fb5-4279-ec47-88caf51747f3"
      },
      "outputs": [],
      "source": [
        "## Call our BPR model train and evaluation script on our prepared dataset\n",
        "result = run_bpr_model(data=prepared_dataset, k=5, epochs=20, learning_rate=0.001, train_size=0.8)"
      ]
    },
    {
      "cell_type": "code",
      "execution_count": null,
      "metadata": {
        "colab": {
          "base_uri": "https://localhost:8080/"
        },
        "id": "jzM39Ved9fa8",
        "outputId": "e60eb58e-082f-4e8b-c42d-440fdc71bec9"
      },
      "outputs": [],
      "source": [
        "## Capture the model metric results on test data\n",
        "print(result)"
      ]
    },
    {
      "cell_type": "markdown",
      "metadata": {
        "id": "MKD2daClokvV"
      },
      "source": [
        "# **References**\n",
        "\n",
        "1. Data Preparation for Colborative Filtering | Microsoft\n",
        "https://github.com/microsoft/recommenders/blob/main/examples/01_prepare_data/data_transform.ipynb\n",
        "\n",
        "2. Cornac Movie Recommendation using BPR | Microsoft\n",
        "https://github.com/microsoft/recommenders/blob/main/examples/02_model_collaborative_filtering/cornac_bpr_deep_dive.ipynb\n",
        "\n",
        "3. Bayesian Personalised Ranking (BPR) Evaluation Example | PreferredAI, Cornac\n",
        "https://github.com/PreferredAI/cornac/blob/master/examples/bpr_netflix.py\n",
        "https://cornac.preferred.ai/\n",
        "\n",
        "4. BPR: Bayesian personalized ranking from implicit feedback | Rendle, S., Freudenthaler, C., Gantner, Z., & Schmidt-Thieme, L. (2009, June).\n",
        "https://arxiv.org/ftp/arxiv/papers/1205/1205.2618.pdf"
      ]
    },
    {
      "cell_type": "code",
      "execution_count": null,
      "metadata": {
        "id": "lUYdbsG6jWQD"
      },
      "outputs": [],
      "source": []
    }
  ],
  "metadata": {
    "accelerator": "GPU",
    "colab": {
      "provenance": []
    },
    "gpuClass": "standard",
    "kernelspec": {
      "display_name": "Python 3.9.6 64-bit",
      "language": "python",
      "name": "python3"
    },
    "language_info": {
      "codemirror_mode": {
        "name": "ipython",
        "version": 3
      },
      "file_extension": ".py",
      "mimetype": "text/x-python",
      "name": "python",
      "nbconvert_exporter": "python",
      "pygments_lexer": "ipython3",
      "version": "3.9.6"
    },
    "vscode": {
      "interpreter": {
        "hash": "31f2aee4e71d21fbe5cf8b01ff0e069b9275f58929596ceb00d14d90e3e16cd6"
      }
    },
    "widgets": {
      "application/vnd.jupyter.widget-state+json": {
        "17f75f593cae42d5b33e4d1fb61463a5": {
          "model_module": "@jupyter-widgets/controls",
          "model_module_version": "1.5.0",
          "model_name": "DescriptionStyleModel",
          "state": {
            "_model_module": "@jupyter-widgets/controls",
            "_model_module_version": "1.5.0",
            "_model_name": "DescriptionStyleModel",
            "_view_count": null,
            "_view_module": "@jupyter-widgets/base",
            "_view_module_version": "1.2.0",
            "_view_name": "StyleView",
            "description_width": ""
          }
        },
        "1d373ed2ec934578884664c7f48242a4": {
          "model_module": "@jupyter-widgets/controls",
          "model_module_version": "1.5.0",
          "model_name": "HTMLModel",
          "state": {
            "_dom_classes": [],
            "_model_module": "@jupyter-widgets/controls",
            "_model_module_version": "1.5.0",
            "_model_name": "HTMLModel",
            "_view_count": null,
            "_view_module": "@jupyter-widgets/controls",
            "_view_module_version": "1.5.0",
            "_view_name": "HTMLView",
            "description": "",
            "description_tooltip": null,
            "layout": "IPY_MODEL_e571123837804a12b495af0400c66b2e",
            "placeholder": "​",
            "style": "IPY_MODEL_c36a8d3767594df08115a36b1313aa6e",
            "value": "100%"
          }
        },
        "26c4708b5e6d4b78ad9a9da8f225bde7": {
          "model_module": "@jupyter-widgets/controls",
          "model_module_version": "1.5.0",
          "model_name": "HTMLModel",
          "state": {
            "_dom_classes": [],
            "_model_module": "@jupyter-widgets/controls",
            "_model_module_version": "1.5.0",
            "_model_name": "HTMLModel",
            "_view_count": null,
            "_view_module": "@jupyter-widgets/controls",
            "_view_module_version": "1.5.0",
            "_view_name": "HTMLView",
            "description": "",
            "description_tooltip": null,
            "layout": "IPY_MODEL_7bbe416c554f43e084637676528c678e",
            "placeholder": "​",
            "style": "IPY_MODEL_ddb8139d780c4c76aee1cf64e1fbe195",
            "value": " 4864/4864 [00:04&lt;00:00, 1293.62it/s]"
          }
        },
        "33fee27029454df0b9bce976ed6dacae": {
          "model_module": "@jupyter-widgets/base",
          "model_module_version": "1.2.0",
          "model_name": "LayoutModel",
          "state": {
            "_model_module": "@jupyter-widgets/base",
            "_model_module_version": "1.2.0",
            "_model_name": "LayoutModel",
            "_view_count": null,
            "_view_module": "@jupyter-widgets/base",
            "_view_module_version": "1.2.0",
            "_view_name": "LayoutView",
            "align_content": null,
            "align_items": null,
            "align_self": null,
            "border": null,
            "bottom": null,
            "display": null,
            "flex": null,
            "flex_flow": null,
            "grid_area": null,
            "grid_auto_columns": null,
            "grid_auto_flow": null,
            "grid_auto_rows": null,
            "grid_column": null,
            "grid_gap": null,
            "grid_row": null,
            "grid_template_areas": null,
            "grid_template_columns": null,
            "grid_template_rows": null,
            "height": null,
            "justify_content": null,
            "justify_items": null,
            "left": null,
            "margin": null,
            "max_height": null,
            "max_width": null,
            "min_height": null,
            "min_width": null,
            "object_fit": null,
            "object_position": null,
            "order": null,
            "overflow": null,
            "overflow_x": null,
            "overflow_y": null,
            "padding": null,
            "right": null,
            "top": null,
            "visibility": null,
            "width": null
          }
        },
        "4d88f035cbbc4804835e525b0c209ff6": {
          "model_module": "@jupyter-widgets/base",
          "model_module_version": "1.2.0",
          "model_name": "LayoutModel",
          "state": {
            "_model_module": "@jupyter-widgets/base",
            "_model_module_version": "1.2.0",
            "_model_name": "LayoutModel",
            "_view_count": null,
            "_view_module": "@jupyter-widgets/base",
            "_view_module_version": "1.2.0",
            "_view_name": "LayoutView",
            "align_content": null,
            "align_items": null,
            "align_self": null,
            "border": null,
            "bottom": null,
            "display": null,
            "flex": null,
            "flex_flow": null,
            "grid_area": null,
            "grid_auto_columns": null,
            "grid_auto_flow": null,
            "grid_auto_rows": null,
            "grid_column": null,
            "grid_gap": null,
            "grid_row": null,
            "grid_template_areas": null,
            "grid_template_columns": null,
            "grid_template_rows": null,
            "height": null,
            "justify_content": null,
            "justify_items": null,
            "left": null,
            "margin": null,
            "max_height": null,
            "max_width": null,
            "min_height": null,
            "min_width": null,
            "object_fit": null,
            "object_position": null,
            "order": null,
            "overflow": null,
            "overflow_x": null,
            "overflow_y": null,
            "padding": null,
            "right": null,
            "top": null,
            "visibility": null,
            "width": null
          }
        },
        "4db8b988d52f407280fb9a4c4d254193": {
          "model_module": "@jupyter-widgets/base",
          "model_module_version": "1.2.0",
          "model_name": "LayoutModel",
          "state": {
            "_model_module": "@jupyter-widgets/base",
            "_model_module_version": "1.2.0",
            "_model_name": "LayoutModel",
            "_view_count": null,
            "_view_module": "@jupyter-widgets/base",
            "_view_module_version": "1.2.0",
            "_view_name": "LayoutView",
            "align_content": null,
            "align_items": null,
            "align_self": null,
            "border": null,
            "bottom": null,
            "display": null,
            "flex": null,
            "flex_flow": null,
            "grid_area": null,
            "grid_auto_columns": null,
            "grid_auto_flow": null,
            "grid_auto_rows": null,
            "grid_column": null,
            "grid_gap": null,
            "grid_row": null,
            "grid_template_areas": null,
            "grid_template_columns": null,
            "grid_template_rows": null,
            "height": null,
            "justify_content": null,
            "justify_items": null,
            "left": null,
            "margin": null,
            "max_height": null,
            "max_width": null,
            "min_height": null,
            "min_width": null,
            "object_fit": null,
            "object_position": null,
            "order": null,
            "overflow": null,
            "overflow_x": null,
            "overflow_y": null,
            "padding": null,
            "right": null,
            "top": null,
            "visibility": null,
            "width": null
          }
        },
        "55966a5e773e48948c486f8c90711515": {
          "model_module": "@jupyter-widgets/base",
          "model_module_version": "1.2.0",
          "model_name": "LayoutModel",
          "state": {
            "_model_module": "@jupyter-widgets/base",
            "_model_module_version": "1.2.0",
            "_model_name": "LayoutModel",
            "_view_count": null,
            "_view_module": "@jupyter-widgets/base",
            "_view_module_version": "1.2.0",
            "_view_name": "LayoutView",
            "align_content": null,
            "align_items": null,
            "align_self": null,
            "border": null,
            "bottom": null,
            "display": null,
            "flex": null,
            "flex_flow": null,
            "grid_area": null,
            "grid_auto_columns": null,
            "grid_auto_flow": null,
            "grid_auto_rows": null,
            "grid_column": null,
            "grid_gap": null,
            "grid_row": null,
            "grid_template_areas": null,
            "grid_template_columns": null,
            "grid_template_rows": null,
            "height": null,
            "justify_content": null,
            "justify_items": null,
            "left": null,
            "margin": null,
            "max_height": null,
            "max_width": null,
            "min_height": null,
            "min_width": null,
            "object_fit": null,
            "object_position": null,
            "order": null,
            "overflow": null,
            "overflow_x": null,
            "overflow_y": null,
            "padding": null,
            "right": null,
            "top": null,
            "visibility": null,
            "width": null
          }
        },
        "572a92743def40a4b9d23b84ac16af3f": {
          "model_module": "@jupyter-widgets/controls",
          "model_module_version": "1.5.0",
          "model_name": "HBoxModel",
          "state": {
            "_dom_classes": [],
            "_model_module": "@jupyter-widgets/controls",
            "_model_module_version": "1.5.0",
            "_model_name": "HBoxModel",
            "_view_count": null,
            "_view_module": "@jupyter-widgets/controls",
            "_view_module_version": "1.5.0",
            "_view_name": "HBoxView",
            "box_style": "",
            "children": [
              "IPY_MODEL_1d373ed2ec934578884664c7f48242a4",
              "IPY_MODEL_8518417abe984d84a3b4de196d795969",
              "IPY_MODEL_ac19189f7e234f5d8f1310c53c5fbde9"
            ],
            "layout": "IPY_MODEL_4d88f035cbbc4804835e525b0c209ff6"
          }
        },
        "59af35ea9dec4bc6a1ab417e0c1bdec3": {
          "model_module": "@jupyter-widgets/controls",
          "model_module_version": "1.5.0",
          "model_name": "FloatProgressModel",
          "state": {
            "_dom_classes": [],
            "_model_module": "@jupyter-widgets/controls",
            "_model_module_version": "1.5.0",
            "_model_name": "FloatProgressModel",
            "_view_count": null,
            "_view_module": "@jupyter-widgets/controls",
            "_view_module_version": "1.5.0",
            "_view_name": "ProgressView",
            "bar_style": "success",
            "description": "",
            "description_tooltip": null,
            "layout": "IPY_MODEL_33fee27029454df0b9bce976ed6dacae",
            "max": 4864,
            "min": 0,
            "orientation": "horizontal",
            "style": "IPY_MODEL_c63abfb1a92941b8804a133c15c4de3a",
            "value": 4864
          }
        },
        "660ed90e327d414c92ab170a2c7df2a2": {
          "model_module": "@jupyter-widgets/controls",
          "model_module_version": "1.5.0",
          "model_name": "ProgressStyleModel",
          "state": {
            "_model_module": "@jupyter-widgets/controls",
            "_model_module_version": "1.5.0",
            "_model_name": "ProgressStyleModel",
            "_view_count": null,
            "_view_module": "@jupyter-widgets/base",
            "_view_module_version": "1.2.0",
            "_view_name": "StyleView",
            "bar_color": null,
            "description_width": ""
          }
        },
        "7bbe416c554f43e084637676528c678e": {
          "model_module": "@jupyter-widgets/base",
          "model_module_version": "1.2.0",
          "model_name": "LayoutModel",
          "state": {
            "_model_module": "@jupyter-widgets/base",
            "_model_module_version": "1.2.0",
            "_model_name": "LayoutModel",
            "_view_count": null,
            "_view_module": "@jupyter-widgets/base",
            "_view_module_version": "1.2.0",
            "_view_name": "LayoutView",
            "align_content": null,
            "align_items": null,
            "align_self": null,
            "border": null,
            "bottom": null,
            "display": null,
            "flex": null,
            "flex_flow": null,
            "grid_area": null,
            "grid_auto_columns": null,
            "grid_auto_flow": null,
            "grid_auto_rows": null,
            "grid_column": null,
            "grid_gap": null,
            "grid_row": null,
            "grid_template_areas": null,
            "grid_template_columns": null,
            "grid_template_rows": null,
            "height": null,
            "justify_content": null,
            "justify_items": null,
            "left": null,
            "margin": null,
            "max_height": null,
            "max_width": null,
            "min_height": null,
            "min_width": null,
            "object_fit": null,
            "object_position": null,
            "order": null,
            "overflow": null,
            "overflow_x": null,
            "overflow_y": null,
            "padding": null,
            "right": null,
            "top": null,
            "visibility": null,
            "width": null
          }
        },
        "7eb5b847cf6b46bbb72851ec14bd667e": {
          "model_module": "@jupyter-widgets/controls",
          "model_module_version": "1.5.0",
          "model_name": "HTMLModel",
          "state": {
            "_dom_classes": [],
            "_model_module": "@jupyter-widgets/controls",
            "_model_module_version": "1.5.0",
            "_model_name": "HTMLModel",
            "_view_count": null,
            "_view_module": "@jupyter-widgets/controls",
            "_view_module_version": "1.5.0",
            "_view_name": "HTMLView",
            "description": "",
            "description_tooltip": null,
            "layout": "IPY_MODEL_55966a5e773e48948c486f8c90711515",
            "placeholder": "​",
            "style": "IPY_MODEL_17f75f593cae42d5b33e4d1fb61463a5",
            "value": "Ranking: 100%"
          }
        },
        "8518417abe984d84a3b4de196d795969": {
          "model_module": "@jupyter-widgets/controls",
          "model_module_version": "1.5.0",
          "model_name": "FloatProgressModel",
          "state": {
            "_dom_classes": [],
            "_model_module": "@jupyter-widgets/controls",
            "_model_module_version": "1.5.0",
            "_model_name": "FloatProgressModel",
            "_view_count": null,
            "_view_module": "@jupyter-widgets/controls",
            "_view_module_version": "1.5.0",
            "_view_name": "ProgressView",
            "bar_style": "success",
            "description": "",
            "description_tooltip": null,
            "layout": "IPY_MODEL_e763f4f7b9bd4b38af5c7a5866839b9f",
            "max": 20,
            "min": 0,
            "orientation": "horizontal",
            "style": "IPY_MODEL_660ed90e327d414c92ab170a2c7df2a2",
            "value": 20
          }
        },
        "8b4106b69ae7497f9590d3403dd5693c": {
          "model_module": "@jupyter-widgets/controls",
          "model_module_version": "1.5.0",
          "model_name": "DescriptionStyleModel",
          "state": {
            "_model_module": "@jupyter-widgets/controls",
            "_model_module_version": "1.5.0",
            "_model_name": "DescriptionStyleModel",
            "_view_count": null,
            "_view_module": "@jupyter-widgets/base",
            "_view_module_version": "1.2.0",
            "_view_name": "StyleView",
            "description_width": ""
          }
        },
        "a385aaa2760647e0911933789c2cf683": {
          "model_module": "@jupyter-widgets/controls",
          "model_module_version": "1.5.0",
          "model_name": "HBoxModel",
          "state": {
            "_dom_classes": [],
            "_model_module": "@jupyter-widgets/controls",
            "_model_module_version": "1.5.0",
            "_model_name": "HBoxModel",
            "_view_count": null,
            "_view_module": "@jupyter-widgets/controls",
            "_view_module_version": "1.5.0",
            "_view_name": "HBoxView",
            "box_style": "",
            "children": [
              "IPY_MODEL_7eb5b847cf6b46bbb72851ec14bd667e",
              "IPY_MODEL_59af35ea9dec4bc6a1ab417e0c1bdec3",
              "IPY_MODEL_26c4708b5e6d4b78ad9a9da8f225bde7"
            ],
            "layout": "IPY_MODEL_4db8b988d52f407280fb9a4c4d254193"
          }
        },
        "ac19189f7e234f5d8f1310c53c5fbde9": {
          "model_module": "@jupyter-widgets/controls",
          "model_module_version": "1.5.0",
          "model_name": "HTMLModel",
          "state": {
            "_dom_classes": [],
            "_model_module": "@jupyter-widgets/controls",
            "_model_module_version": "1.5.0",
            "_model_name": "HTMLModel",
            "_view_count": null,
            "_view_module": "@jupyter-widgets/controls",
            "_view_module_version": "1.5.0",
            "_view_name": "HTMLView",
            "description": "",
            "description_tooltip": null,
            "layout": "IPY_MODEL_c521ac81951941eebb1c3eabac779c07",
            "placeholder": "​",
            "style": "IPY_MODEL_8b4106b69ae7497f9590d3403dd5693c",
            "value": " 20/20 [01:39&lt;00:00,  4.91s/it, correct=53.19%, skipped=79.98%]"
          }
        },
        "c36a8d3767594df08115a36b1313aa6e": {
          "model_module": "@jupyter-widgets/controls",
          "model_module_version": "1.5.0",
          "model_name": "DescriptionStyleModel",
          "state": {
            "_model_module": "@jupyter-widgets/controls",
            "_model_module_version": "1.5.0",
            "_model_name": "DescriptionStyleModel",
            "_view_count": null,
            "_view_module": "@jupyter-widgets/base",
            "_view_module_version": "1.2.0",
            "_view_name": "StyleView",
            "description_width": ""
          }
        },
        "c521ac81951941eebb1c3eabac779c07": {
          "model_module": "@jupyter-widgets/base",
          "model_module_version": "1.2.0",
          "model_name": "LayoutModel",
          "state": {
            "_model_module": "@jupyter-widgets/base",
            "_model_module_version": "1.2.0",
            "_model_name": "LayoutModel",
            "_view_count": null,
            "_view_module": "@jupyter-widgets/base",
            "_view_module_version": "1.2.0",
            "_view_name": "LayoutView",
            "align_content": null,
            "align_items": null,
            "align_self": null,
            "border": null,
            "bottom": null,
            "display": null,
            "flex": null,
            "flex_flow": null,
            "grid_area": null,
            "grid_auto_columns": null,
            "grid_auto_flow": null,
            "grid_auto_rows": null,
            "grid_column": null,
            "grid_gap": null,
            "grid_row": null,
            "grid_template_areas": null,
            "grid_template_columns": null,
            "grid_template_rows": null,
            "height": null,
            "justify_content": null,
            "justify_items": null,
            "left": null,
            "margin": null,
            "max_height": null,
            "max_width": null,
            "min_height": null,
            "min_width": null,
            "object_fit": null,
            "object_position": null,
            "order": null,
            "overflow": null,
            "overflow_x": null,
            "overflow_y": null,
            "padding": null,
            "right": null,
            "top": null,
            "visibility": null,
            "width": null
          }
        },
        "c63abfb1a92941b8804a133c15c4de3a": {
          "model_module": "@jupyter-widgets/controls",
          "model_module_version": "1.5.0",
          "model_name": "ProgressStyleModel",
          "state": {
            "_model_module": "@jupyter-widgets/controls",
            "_model_module_version": "1.5.0",
            "_model_name": "ProgressStyleModel",
            "_view_count": null,
            "_view_module": "@jupyter-widgets/base",
            "_view_module_version": "1.2.0",
            "_view_name": "StyleView",
            "bar_color": null,
            "description_width": ""
          }
        },
        "ddb8139d780c4c76aee1cf64e1fbe195": {
          "model_module": "@jupyter-widgets/controls",
          "model_module_version": "1.5.0",
          "model_name": "DescriptionStyleModel",
          "state": {
            "_model_module": "@jupyter-widgets/controls",
            "_model_module_version": "1.5.0",
            "_model_name": "DescriptionStyleModel",
            "_view_count": null,
            "_view_module": "@jupyter-widgets/base",
            "_view_module_version": "1.2.0",
            "_view_name": "StyleView",
            "description_width": ""
          }
        },
        "e571123837804a12b495af0400c66b2e": {
          "model_module": "@jupyter-widgets/base",
          "model_module_version": "1.2.0",
          "model_name": "LayoutModel",
          "state": {
            "_model_module": "@jupyter-widgets/base",
            "_model_module_version": "1.2.0",
            "_model_name": "LayoutModel",
            "_view_count": null,
            "_view_module": "@jupyter-widgets/base",
            "_view_module_version": "1.2.0",
            "_view_name": "LayoutView",
            "align_content": null,
            "align_items": null,
            "align_self": null,
            "border": null,
            "bottom": null,
            "display": null,
            "flex": null,
            "flex_flow": null,
            "grid_area": null,
            "grid_auto_columns": null,
            "grid_auto_flow": null,
            "grid_auto_rows": null,
            "grid_column": null,
            "grid_gap": null,
            "grid_row": null,
            "grid_template_areas": null,
            "grid_template_columns": null,
            "grid_template_rows": null,
            "height": null,
            "justify_content": null,
            "justify_items": null,
            "left": null,
            "margin": null,
            "max_height": null,
            "max_width": null,
            "min_height": null,
            "min_width": null,
            "object_fit": null,
            "object_position": null,
            "order": null,
            "overflow": null,
            "overflow_x": null,
            "overflow_y": null,
            "padding": null,
            "right": null,
            "top": null,
            "visibility": null,
            "width": null
          }
        },
        "e763f4f7b9bd4b38af5c7a5866839b9f": {
          "model_module": "@jupyter-widgets/base",
          "model_module_version": "1.2.0",
          "model_name": "LayoutModel",
          "state": {
            "_model_module": "@jupyter-widgets/base",
            "_model_module_version": "1.2.0",
            "_model_name": "LayoutModel",
            "_view_count": null,
            "_view_module": "@jupyter-widgets/base",
            "_view_module_version": "1.2.0",
            "_view_name": "LayoutView",
            "align_content": null,
            "align_items": null,
            "align_self": null,
            "border": null,
            "bottom": null,
            "display": null,
            "flex": null,
            "flex_flow": null,
            "grid_area": null,
            "grid_auto_columns": null,
            "grid_auto_flow": null,
            "grid_auto_rows": null,
            "grid_column": null,
            "grid_gap": null,
            "grid_row": null,
            "grid_template_areas": null,
            "grid_template_columns": null,
            "grid_template_rows": null,
            "height": null,
            "justify_content": null,
            "justify_items": null,
            "left": null,
            "margin": null,
            "max_height": null,
            "max_width": null,
            "min_height": null,
            "min_width": null,
            "object_fit": null,
            "object_position": null,
            "order": null,
            "overflow": null,
            "overflow_x": null,
            "overflow_y": null,
            "padding": null,
            "right": null,
            "top": null,
            "visibility": null,
            "width": null
          }
        }
      }
    }
  },
  "nbformat": 4,
  "nbformat_minor": 0
}
